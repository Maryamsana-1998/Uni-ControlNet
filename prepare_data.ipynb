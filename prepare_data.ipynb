{
 "cells": [
  {
   "cell_type": "code",
   "execution_count": 1,
   "id": "21eabd00-1c03-4757-a036-b66054d12b91",
   "metadata": {},
   "outputs": [
    {
     "name": "stderr",
     "output_type": "stream",
     "text": [
      "/data/maryam.sana/anaconda3/envs/compressai/lib/python3.12/site-packages/tqdm/auto.py:21: TqdmWarning: IProgress not found. Please update jupyter and ipywidgets. See https://ipywidgets.readthedocs.io/en/stable/user_install.html\n",
      "  from .autonotebook import tqdm as notebook_tqdm\n",
      "2024-06-13 21:08:07.805886: I tensorflow/core/util/port.cc:113] oneDNN custom operations are on. You may see slightly different numerical results due to floating-point round-off errors from different computation orders. To turn them off, set the environment variable `TF_ENABLE_ONEDNN_OPTS=0`.\n",
      "2024-06-13 21:08:07.851309: I tensorflow/core/platform/cpu_feature_guard.cc:210] This TensorFlow binary is optimized to use available CPU instructions in performance-critical operations.\n",
      "To enable the following instructions: AVX2 AVX512F AVX512_VNNI FMA, in other operations, rebuild TensorFlow with the appropriate compiler flags.\n",
      "2024-06-13 21:08:10.926042: W tensorflow/compiler/tf2tensorrt/utils/py_utils.cc:38] TF-TRT Warning: Could not find TensorRT\n",
      "/data/maryam.sana/anaconda3/envs/compressai/lib/python3.12/site-packages/transformers/models/llava/configuration_llava.py:104: FutureWarning: The `vocab_size` argument is deprecated and will be removed in v4.42, since it can be inferred from the `text_config`. Passing this argument has no effect\n",
      "  warnings.warn(\n",
      "Loading checkpoint shards: 100%|█████████████████████████████████████████████| 3/3 [00:03<00:00,  1.11s/it]\n",
      "Special tokens have been added in the vocabulary, make sure the associated word embeddings are fine-tuned or trained.\n"
     ]
    }
   ],
   "source": [
    "from transformers import AutoProcessor, LlavaForConditionalGeneration\n",
    "import numpy as np\n",
    "from utils import *\n",
    "import glob\n",
    "import json\n",
    "import datasets as ds\n",
    "import os\n",
    "\n",
    "image_paths = glob.glob('/data/maryam.sana/Uni-ControlNet/data/images/*.png')\n",
    "model = LlavaForConditionalGeneration.from_pretrained(\"llava-hf/llava-1.5-7b-hf\")\n",
    "processor = AutoProcessor.from_pretrained(\"llava-hf/llava-1.5-7b-hf\")"
   ]
  },
  {
   "cell_type": "code",
   "execution_count": 2,
   "id": "420e6ff0-ffd6-4265-bee5-9424bb19672e",
   "metadata": {},
   "outputs": [],
   "source": [
    "def get_caption(frame):\n",
    "    prompt = \"<image>\\nUSER:Give a detailed visual description of this image ?\\nASSISTANT:\"\n",
    "    inputs = processor(text=prompt, images=frame, return_tensors=\"pt\")\n",
    "    generate_ids = model.generate(**inputs, max_length=200)\n",
    "    caption_llava = processor.batch_decode(generate_ids, skip_special_tokens=True, clean_up_tokenization_spaces=False)[0]\n",
    "    return caption_llava.split('ASSISTANT:')[1]  "
   ]
  },
  {
   "cell_type": "code",
   "execution_count": 22,
   "id": "644d1434-5d78-4e93-818d-e3014e864c6d",
   "metadata": {},
   "outputs": [],
   "source": [
    "import cv2\n",
    "import os\n",
    "\n",
    "def check_images(directory):\n",
    "    for root, _, files in os.walk(directory):\n",
    "        for file in files:\n",
    "            if file.endswith(('.png', '.jpg', '.jpeg', '.bmp', '.tiff')):\n",
    "                try:\n",
    "                    img = cv2.imread(os.path.join(root, file))\n",
    "                    image = cv2.cvtColor(img, cv2.COLOR_BGR2RGB)\n",
    "                    # print(image.shape, os.path.join(root, file))\n",
    "                    if img is None:\n",
    "                        print(f\"Failed to read image: {file}\")\n",
    "                except Exception as e:\n",
    "                    print(f\"Error reading image {file}: {e}\")\n",
    "\n",
    "check_images('data/images')"
   ]
  },
  {
   "cell_type": "code",
   "execution_count": 18,
   "id": "ff802994-7ee2-4a1a-9d5e-c5d909b12946",
   "metadata": {},
   "outputs": [],
   "source": [
    "# from PIL import Image\n",
    "\n",
    "# anno_file = '/data/maryam.sana/Uni-ControlNet/data/data.txt'\n",
    "\n",
    "# with open(anno_file, 'w') as anno:\n",
    "#     for i, img_path in enumerate(image_paths[0:5]):\n",
    "#         # Load image\n",
    "#         frame = Image.open(img_path)\n",
    "        \n",
    "#         # Generate caption for the image\n",
    "#         caption = get_caption(frame)\n",
    "#         caption = \" \".join(caption.split())\n",
    "#         # print(caption)\n",
    "        \n",
    "#         # Get the file ID (assuming it's the filename without the extension)\n",
    "#         file_id = os.path.splitext(os.path.basename(img_path))[0]\n",
    "#         print(f\"{file_id} {caption}\\n\")\n",
    "        \n",
    "#         anno.write(f\"{file_id}\\t{caption}\\n\")\n",
    "\n",
    "# print(f\"Annotation file {anno_file} has been created.\")\n",
    "  "
   ]
  },
  {
   "cell_type": "code",
   "execution_count": 24,
   "id": "2615c405-f033-406c-9bc6-53587b951270",
   "metadata": {},
   "outputs": [
    {
     "name": "stdout",
     "output_type": "stream",
     "text": [
      "Unprocessed files:\n"
     ]
    }
   ],
   "source": [
    "import os\n",
    "\n",
    "def read_processed_files(data_file):\n",
    "    processed_files = set()\n",
    "    with open(data_file, 'r') as file:\n",
    "        for line in file:\n",
    "            file_id, caption = line.strip().split('\\t')\n",
    "            processed_files.add(file_id)\n",
    "    return processed_files\n",
    "\n",
    "def get_all_png_files(directory):\n",
    "    png_files = set()\n",
    "    for root, _, files in os.walk(directory):\n",
    "        for file in files:\n",
    "            if file.endswith('.png'):\n",
    "                file_id = os.path.splitext(file)[0]  # Remove the file extension\n",
    "                png_files.add(file_id)\n",
    "    return png_files\n",
    "\n",
    "def find_unprocessed_files(png_directory, data_file):\n",
    "    processed_files = read_processed_files(data_file)\n",
    "    all_png_files = get_all_png_files(png_directory)\n",
    "    unprocessed_files = all_png_files - processed_files\n",
    "    return unprocessed_files\n",
    "\n",
    "if __name__ == \"__main__\":\n",
    "    png_directory = 'data/images/'\n",
    "    data_file = './data/data.txt'\n",
    "    file_list = []\n",
    "    \n",
    "    unprocessed_files = find_unprocessed_files(png_directory, data_file)\n",
    "    if unprocessed_files:\n",
    "        print(\"Unprocessed files:\")\n",
    "        for file in unprocessed_files:\n",
    "            file_list.append(file)\n",
    "            \n",
    "            # print(f\"{file}.png\")\n",
    "    else:\n",
    "        print(\"All files are processed.\")\n"
   ]
  },
  {
   "cell_type": "code",
   "execution_count": 25,
   "id": "45bd79bb-beec-4732-93c0-99c51bfc993a",
   "metadata": {},
   "outputs": [
    {
     "data": {
      "text/plain": [
       "147"
      ]
     },
     "execution_count": 25,
     "metadata": {},
     "output_type": "execute_result"
    }
   ],
   "source": [
    "import glob\n",
    "\n",
    "len(glob.glob('data/images/*.png'))"
   ]
  },
  {
   "cell_type": "code",
   "execution_count": 26,
   "id": "0b2ca148-c056-4933-a093-95be76a6d6db",
   "metadata": {},
   "outputs": [
    {
     "data": {
      "text/plain": [
       "73"
      ]
     },
     "execution_count": 26,
     "metadata": {},
     "output_type": "execute_result"
    }
   ],
   "source": [
    "len(file_list)"
   ]
  },
  {
   "cell_type": "code",
   "execution_count": 27,
   "id": "582ca754-47d9-41c9-9f2a-43c84d73b034",
   "metadata": {},
   "outputs": [
    {
     "data": {
      "text/plain": [
       "['j_032',\n",
       " 'r_036',\n",
       " 'y_038',\n",
       " 'y_044',\n",
       " 'j_002',\n",
       " 'r_039',\n",
       " 'j_060',\n",
       " 'r_019',\n",
       " 'r_048',\n",
       " 'r_017',\n",
       " 'y_020',\n",
       " 'y_053',\n",
       " 'j_001-checkpoint',\n",
       " 'j_005',\n",
       " 'r_041',\n",
       " 's_022',\n",
       " 'r_059',\n",
       " 'j_011',\n",
       " 'r_007',\n",
       " 'r_045',\n",
       " 'r_008',\n",
       " 'y_058',\n",
       " 'r_054',\n",
       " 'j_050',\n",
       " 'j_026',\n",
       " 'r_029',\n",
       " 'j_020',\n",
       " 'j_003',\n",
       " 'r_046',\n",
       " 'j_055',\n",
       " 'j_021',\n",
       " 's_029',\n",
       " 'j_034',\n",
       " 'j_025',\n",
       " 'j_001',\n",
       " 'y_039',\n",
       " 'r_050',\n",
       " 'y_054',\n",
       " 'j_044',\n",
       " 'r_005',\n",
       " 'y_023',\n",
       " 'y_048',\n",
       " 's_001',\n",
       " 'y_049',\n",
       " 'r_052',\n",
       " 'y_015',\n",
       " 'j_049',\n",
       " 'y_007',\n",
       " 'y_009',\n",
       " 'j_059',\n",
       " 's_026',\n",
       " 'j_043',\n",
       " 'r_060',\n",
       " 'y_047',\n",
       " 's_014',\n",
       " 's_020',\n",
       " 'j_036',\n",
       " 'j_045',\n",
       " 'r_030',\n",
       " 'j_013',\n",
       " 'y_011',\n",
       " 'j_023',\n",
       " 'r_006',\n",
       " 'j_046',\n",
       " 'r_049',\n",
       " 'y_059',\n",
       " 'r_021',\n",
       " 'j_002-checkpoint',\n",
       " 'y_042',\n",
       " 'y_040',\n",
       " 'y_046',\n",
       " 'r_058',\n",
       " 'y_043']"
      ]
     },
     "execution_count": 27,
     "metadata": {},
     "output_type": "execute_result"
    }
   ],
   "source": [
    "file_list"
   ]
  },
  {
   "cell_type": "code",
   "execution_count": null,
   "id": "4e1b0491-48fa-41e2-9390-fd005044901e",
   "metadata": {},
   "outputs": [],
   "source": []
  }
 ],
 "metadata": {
  "kernelspec": {
   "display_name": "Python 3 (ipykernel)",
   "language": "python",
   "name": "python3"
  },
  "language_info": {
   "codemirror_mode": {
    "name": "ipython",
    "version": 3
   },
   "file_extension": ".py",
   "mimetype": "text/x-python",
   "name": "python",
   "nbconvert_exporter": "python",
   "pygments_lexer": "ipython3",
   "version": "3.8.5"
  }
 },
 "nbformat": 4,
 "nbformat_minor": 5
}
