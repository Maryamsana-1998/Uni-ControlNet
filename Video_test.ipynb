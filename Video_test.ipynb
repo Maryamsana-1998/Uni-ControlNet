{
 "cells": [
  {
   "cell_type": "code",
   "execution_count": null,
   "id": "a5b4d277-4469-4984-a047-c8a6a87a0f0d",
   "metadata": {},
   "outputs": [],
   "source": [
    "!python utils/prepare_weights.py integrate checkpoints/video_local/best-checkpoint.ckpt checkpoints/video_global/best-checkpoint.ckpt configs/video_uni_v15/uni_v15.yaml checkpoints/video_uni_v15.ckpt"
   ]
  },
  {
   "cell_type": "code",
   "execution_count": null,
   "id": "4bedb670-1482-4418-9a70-969db143b0e2",
   "metadata": {},
   "outputs": [],
   "source": []
  }
 ],
 "metadata": {
  "kernelspec": {
   "display_name": "Python 3 (ipykernel)",
   "language": "python",
   "name": "python3"
  },
  "language_info": {
   "codemirror_mode": {
    "name": "ipython",
    "version": 3
   },
   "file_extension": ".py",
   "mimetype": "text/x-python",
   "name": "python",
   "nbconvert_exporter": "python",
   "pygments_lexer": "ipython3",
   "version": "3.11.5"
  }
 },
 "nbformat": 4,
 "nbformat_minor": 5
}
